{
  "nbformat": 4,
  "nbformat_minor": 0,
  "metadata": {
    "colab": {
      "provenance": [],
      "authorship_tag": "ABX9TyNKPYwn8Pd8uXVVaNpNsDKH",
      "include_colab_link": true
    },
    "kernelspec": {
      "name": "python3",
      "display_name": "Python 3"
    },
    "language_info": {
      "name": "python"
    }
  },
  "cells": [
    {
      "cell_type": "markdown",
      "metadata": {
        "id": "view-in-github",
        "colab_type": "text"
      },
      "source": [
        "<a href=\"https://colab.research.google.com/github/zxllxz2/disaster-dazzlers/blob/main/incident_join.ipynb\" target=\"_parent\"><img src=\"https://colab.research.google.com/assets/colab-badge.svg\" alt=\"Open In Colab\"/></a>"
      ]
    },
    {
      "cell_type": "code",
      "source": [
        "credentials = {\n",
        "    'region_name': 'us-east-1',\n",
        "    'aws_access_key_id': 'xxx',\n",
        "    'aws_secret_access_key': 'xxx',\n",
        "    'aws_session_token': 'xxx'\n",
        "}"
      ],
      "metadata": {
        "id": "8RgrwYKoUR49"
      },
      "execution_count": 10,
      "outputs": []
    },
    {
      "cell_type": "code",
      "execution_count": null,
      "metadata": {
        "id": "Vkd5j1ELUJhg"
      },
      "outputs": [],
      "source": [
        "!pip install boto3\n",
        "!pip install geopandas pyarrow\n",
        "\n",
        "import geopandas as gd\n",
        "import pyarrow.parquet as pq\n",
        "import pandas as pd\n",
        "import boto3, json\n",
        "\n",
        "session = boto3.session.Session(**credentials)\n",
        "s3 = session.client('s3')"
      ]
    },
    {
      "cell_type": "code",
      "source": [
        "session = boto3.session.Session(**credentials)\n",
        "s3 = session.client('s3')"
      ],
      "metadata": {
        "id": "ki1u6e2EayYZ"
      },
      "execution_count": 18,
      "outputs": []
    },
    {
      "cell_type": "markdown",
      "source": [
        "## Upload census tracts to S3"
      ],
      "metadata": {
        "id": "j9cyxo_eUmDB"
      }
    },
    {
      "cell_type": "code",
      "source": [
        "import os\n",
        "\n",
        "for root,dirs,files in os.walk('/content/census_tract'):\n",
        "  for file in files:\n",
        "    s3.upload_file(os.path.join(root[9:],file),'wwu-incidents', file)"
      ],
      "metadata": {
        "id": "C9-RF6YGUlpl"
      },
      "execution_count": null,
      "outputs": []
    },
    {
      "cell_type": "markdown",
      "source": [
        "## Join census tract, economics data, and incidents"
      ],
      "metadata": {
        "id": "48pzttolVfmO"
      }
    },
    {
      "cell_type": "code",
      "source": [
        "! unzip /content/census_tract.zip"
      ],
      "metadata": {
        "id": "8TE5KsUOCXUG"
      },
      "execution_count": null,
      "outputs": []
    },
    {
      "cell_type": "code",
      "source": [
        "df = gd.read_file('/content/census_tract/davidson/tl_2016_47_tract.shp')"
      ],
      "metadata": {
        "id": "NqUCxOK5UX4V"
      },
      "execution_count": 48,
      "outputs": []
    },
    {
      "cell_type": "code",
      "source": [
        "df2 = pd.read_csv('/content/census_economic_data_all_tennessee_labels.csv')"
      ],
      "metadata": {
        "id": "7mNnjeNCZnu8"
      },
      "execution_count": 53,
      "outputs": []
    },
    {
      "cell_type": "code",
      "source": [
        "incidents=pd.read_parquet('nfd_incidents_xd_seg.parquet')\n",
        "incident_geo = gd.GeoDataFrame(\n",
        "    incidents,\n",
        "    geometry=gd.points_from_xy(incidents.longitude, incidents.latitude),\n",
        "    crs=df.crs\n",
        ")"
      ],
      "metadata": {
        "id": "3uJa6DBRUZb5"
      },
      "execution_count": 50,
      "outputs": []
    },
    {
      "cell_type": "code",
      "source": [
        "jdi = gd.sjoin(df, incident_geo, how='inner', op='intersects')\n",
        "len(jdi)"
      ],
      "metadata": {
        "colab": {
          "base_uri": "https://localhost:8080/"
        },
        "id": "K4dCC4eHUfqh",
        "outputId": "553b3c9a-5d4d-4487-b7ab-06f23378ff35"
      },
      "execution_count": 51,
      "outputs": [
        {
          "output_type": "stream",
          "name": "stderr",
          "text": [
            "/usr/local/lib/python3.10/dist-packages/IPython/core/interactiveshell.py:3473: FutureWarning: The `op` parameter is deprecated and will be removed in a future release. Please use the `predicate` parameter instead.\n",
            "  if (await self.run_code(code, result,  async_=asy)):\n"
          ]
        },
        {
          "output_type": "execute_result",
          "data": {
            "text/plain": [
              "29768"
            ]
          },
          "metadata": {},
          "execution_count": 51
        }
      ]
    },
    {
      "cell_type": "code",
      "source": [
        "jdi = jdi.astype({'TRACTCE': 'int64', 'COUNTYFP': 'int64'})\n",
        "jdi"
      ],
      "metadata": {
        "id": "KFURAsQdoP8v"
      },
      "execution_count": null,
      "outputs": []
    },
    {
      "cell_type": "code",
      "source": [
        "df2_clean = df2.astype({'tract': 'int64', 'county': 'int64'}).drop(['state'], axis=1)\n",
        "df2_clean.head()"
      ],
      "metadata": {
        "id": "4xFxctUYaL7i"
      },
      "execution_count": null,
      "outputs": []
    },
    {
      "cell_type": "code",
      "source": [
        "df_comp = jdi.merge(df2_clean, how='left', left_on=['TRACTCE','COUNTYFP'], right_on=['tract','county'])\n",
        "df_comp"
      ],
      "metadata": {
        "id": "6pn2MDz_dD0R"
      },
      "execution_count": null,
      "outputs": []
    },
    {
      "cell_type": "code",
      "source": [
        "df_comp.to_file('/content/incident_census_join_econ', driver=\"GeoJSON\")"
      ],
      "metadata": {
        "id": "hkEht7o5Uhc5"
      },
      "execution_count": 59,
      "outputs": []
    },
    {
      "cell_type": "code",
      "source": [
        "s3.upload_file(Bucket='wwu-incidents',Key='incident_census_join_econ',Filename='incident_census_join_econ')"
      ],
      "metadata": {
        "id": "Sd2M2020Wjdn"
      },
      "execution_count": 60,
      "outputs": []
    }
  ]
}