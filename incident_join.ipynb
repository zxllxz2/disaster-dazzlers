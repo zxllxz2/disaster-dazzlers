{
  "nbformat": 4,
  "nbformat_minor": 0,
  "metadata": {
    "colab": {
      "provenance": [],
      "authorship_tag": "ABX9TyMRpOwDson5/BZAi0UdJQfp",
      "include_colab_link": true
    },
    "kernelspec": {
      "name": "python3",
      "display_name": "Python 3"
    },
    "language_info": {
      "name": "python"
    }
  },
  "cells": [
    {
      "cell_type": "markdown",
      "metadata": {
        "id": "view-in-github",
        "colab_type": "text"
      },
      "source": [
        "<a href=\"https://colab.research.google.com/github/zxllxz2/disaster-dazzlers/blob/main/incident_join.ipynb\" target=\"_parent\"><img src=\"https://colab.research.google.com/assets/colab-badge.svg\" alt=\"Open In Colab\"/></a>"
      ]
    },
    {
      "cell_type": "code",
      "source": [
        "credentials = {\n",
        "    'region_name': 'us-east-1',\n",
        "    'aws_access_key_id': 'xxx',\n",
        "    'aws_secret_access_key': 'xxx',\n",
        "    'aws_session_token': 'xxx'\n",
        "}"
      ],
      "metadata": {
        "id": "8RgrwYKoUR49"
      },
      "execution_count": 2,
      "outputs": []
    },
    {
      "cell_type": "code",
      "execution_count": null,
      "metadata": {
        "id": "Vkd5j1ELUJhg"
      },
      "outputs": [],
      "source": [
        "!pip install boto3\n",
        "!pip install geopandas pyarrow\n",
        "\n",
        "import geopandas as gd\n",
        "import pyarrow.parquet as pq\n",
        "import pandas as pd\n",
        "import boto3, json\n",
        "\n",
        "session = boto3.session.Session(**credentials)\n",
        "s3 = session.client('s3')"
      ]
    },
    {
      "cell_type": "markdown",
      "source": [
        "## Upload census tracts to S3"
      ],
      "metadata": {
        "id": "j9cyxo_eUmDB"
      }
    },
    {
      "cell_type": "code",
      "source": [
        "import os\n",
        "\n",
        "for root,dirs,files in os.walk('/content/census_tract'):\n",
        "  for file in files:\n",
        "    s3.upload_file(os.path.join(root[9:],file),'wwu-incidents', file)"
      ],
      "metadata": {
        "id": "C9-RF6YGUlpl"
      },
      "execution_count": null,
      "outputs": []
    },
    {
      "cell_type": "markdown",
      "source": [
        "## Join census tract and incidents"
      ],
      "metadata": {
        "id": "48pzttolVfmO"
      }
    },
    {
      "cell_type": "code",
      "source": [
        "df = gd.read_file('/content/census_tract/tl_2016_47_tract.shp')"
      ],
      "metadata": {
        "id": "NqUCxOK5UX4V"
      },
      "execution_count": 7,
      "outputs": []
    },
    {
      "cell_type": "code",
      "source": [
        "incidents=pd.read_parquet('nfd_incidents_xd_seg.parquet')\n",
        "incident_geo = gd.GeoDataFrame(\n",
        "    incidents,\n",
        "    geometry=gd.points_from_xy(incidents.longitude, incidents.latitude),\n",
        "    crs=df.crs\n",
        ")"
      ],
      "metadata": {
        "id": "3uJa6DBRUZb5"
      },
      "execution_count": 8,
      "outputs": []
    },
    {
      "cell_type": "code",
      "source": [
        "jd = gd.sjoin(df, incident_geo, how='inner', op='intersects')\n",
        "jd.head()"
      ],
      "metadata": {
        "colab": {
          "base_uri": "https://localhost:8080/",
          "height": 438
        },
        "id": "K4dCC4eHUfqh",
        "outputId": "70222c65-6cff-4619-edbb-1630f0989625"
      },
      "execution_count": 9,
      "outputs": [
        {
          "output_type": "stream",
          "name": "stderr",
          "text": [
            "/usr/local/lib/python3.9/dist-packages/IPython/core/interactiveshell.py:3473: FutureWarning: The `op` parameter is deprecated and will be removed in a future release. Please use the `predicate` parameter instead.\n",
            "  if (await self.run_code(code, result,  async_=asy)):\n"
          ]
        },
        {
          "output_type": "execute_result",
          "data": {
            "text/plain": [
              "   STATEFP COUNTYFP TRACTCE        GEOID    NAME             NAMELSAD  MTFCC  \\\n",
              "47      47      021  070103  47021070103  701.03  Census Tract 701.03  G5020   \n",
              "58      47      037  011300  47037011300     113     Census Tract 113  G5020   \n",
              "58      47      037  011300  47037011300     113     Census Tract 113  G5020   \n",
              "58      47      037  011300  47037011300     113     Census Tract 113  G5020   \n",
              "58      47      037  011300  47037011300     113     Census Tract 113  G5020   \n",
              "\n",
              "   FUNCSTAT     ALAND  AWATER  ...  longitude emdCardNumber  \\\n",
              "47        S  43484202    2904  ... -86.917417          29B5   \n",
              "58        S   4224644       0  ... -86.774908          29D5   \n",
              "58        S   4224644       0  ... -86.775083          29B1   \n",
              "58        S   4224644       0  ... -86.775555          29B5   \n",
              "58        S   4224644       0  ... -86.775555         29A2V   \n",
              "\n",
              "                  time_utc              time_local response_time_sec  \\\n",
              "47 2019-07-20 14:44:22.887 2019-07-20 09:44:22.887             395.0   \n",
              "58 2021-02-27 06:36:01.060 2021-02-27 00:36:01.060             406.0   \n",
              "58 2019-01-02 01:49:13.913 2019-01-01 19:49:13.913             141.0   \n",
              "58 2020-10-16 02:51:40.283 2020-10-15 21:51:40.283             503.0   \n",
              "58 2019-10-12 04:33:59.960 2019-10-11 23:33:59.960             705.0   \n",
              "\n",
              "    day_of_week  weekend_or_not Incident_ID Dist_to_Seg       XDSegID  \n",
              "47            5               1       13986    0.102966  1.524414e+09  \n",
              "58            5               1       29711   20.663933  1.601569e+08  \n",
              "58            1               0        8209    0.508230  1.524322e+09  \n",
              "58            3               0       26528    0.076611  1.524396e+09  \n",
              "58            4               0       16656    0.076611  1.524396e+09  \n",
              "\n",
              "[5 rows x 26 columns]"
            ],
            "text/html": [
              "\n",
              "  <div id=\"df-b5aee968-d7f7-4c6e-b245-fd008045cac7\">\n",
              "    <div class=\"colab-df-container\">\n",
              "      <div>\n",
              "<style scoped>\n",
              "    .dataframe tbody tr th:only-of-type {\n",
              "        vertical-align: middle;\n",
              "    }\n",
              "\n",
              "    .dataframe tbody tr th {\n",
              "        vertical-align: top;\n",
              "    }\n",
              "\n",
              "    .dataframe thead th {\n",
              "        text-align: right;\n",
              "    }\n",
              "</style>\n",
              "<table border=\"1\" class=\"dataframe\">\n",
              "  <thead>\n",
              "    <tr style=\"text-align: right;\">\n",
              "      <th></th>\n",
              "      <th>STATEFP</th>\n",
              "      <th>COUNTYFP</th>\n",
              "      <th>TRACTCE</th>\n",
              "      <th>GEOID</th>\n",
              "      <th>NAME</th>\n",
              "      <th>NAMELSAD</th>\n",
              "      <th>MTFCC</th>\n",
              "      <th>FUNCSTAT</th>\n",
              "      <th>ALAND</th>\n",
              "      <th>AWATER</th>\n",
              "      <th>...</th>\n",
              "      <th>longitude</th>\n",
              "      <th>emdCardNumber</th>\n",
              "      <th>time_utc</th>\n",
              "      <th>time_local</th>\n",
              "      <th>response_time_sec</th>\n",
              "      <th>day_of_week</th>\n",
              "      <th>weekend_or_not</th>\n",
              "      <th>Incident_ID</th>\n",
              "      <th>Dist_to_Seg</th>\n",
              "      <th>XDSegID</th>\n",
              "    </tr>\n",
              "  </thead>\n",
              "  <tbody>\n",
              "    <tr>\n",
              "      <th>47</th>\n",
              "      <td>47</td>\n",
              "      <td>021</td>\n",
              "      <td>070103</td>\n",
              "      <td>47021070103</td>\n",
              "      <td>701.03</td>\n",
              "      <td>Census Tract 701.03</td>\n",
              "      <td>G5020</td>\n",
              "      <td>S</td>\n",
              "      <td>43484202</td>\n",
              "      <td>2904</td>\n",
              "      <td>...</td>\n",
              "      <td>-86.917417</td>\n",
              "      <td>29B5</td>\n",
              "      <td>2019-07-20 14:44:22.887</td>\n",
              "      <td>2019-07-20 09:44:22.887</td>\n",
              "      <td>395.0</td>\n",
              "      <td>5</td>\n",
              "      <td>1</td>\n",
              "      <td>13986</td>\n",
              "      <td>0.102966</td>\n",
              "      <td>1.524414e+09</td>\n",
              "    </tr>\n",
              "    <tr>\n",
              "      <th>58</th>\n",
              "      <td>47</td>\n",
              "      <td>037</td>\n",
              "      <td>011300</td>\n",
              "      <td>47037011300</td>\n",
              "      <td>113</td>\n",
              "      <td>Census Tract 113</td>\n",
              "      <td>G5020</td>\n",
              "      <td>S</td>\n",
              "      <td>4224644</td>\n",
              "      <td>0</td>\n",
              "      <td>...</td>\n",
              "      <td>-86.774908</td>\n",
              "      <td>29D5</td>\n",
              "      <td>2021-02-27 06:36:01.060</td>\n",
              "      <td>2021-02-27 00:36:01.060</td>\n",
              "      <td>406.0</td>\n",
              "      <td>5</td>\n",
              "      <td>1</td>\n",
              "      <td>29711</td>\n",
              "      <td>20.663933</td>\n",
              "      <td>1.601569e+08</td>\n",
              "    </tr>\n",
              "    <tr>\n",
              "      <th>58</th>\n",
              "      <td>47</td>\n",
              "      <td>037</td>\n",
              "      <td>011300</td>\n",
              "      <td>47037011300</td>\n",
              "      <td>113</td>\n",
              "      <td>Census Tract 113</td>\n",
              "      <td>G5020</td>\n",
              "      <td>S</td>\n",
              "      <td>4224644</td>\n",
              "      <td>0</td>\n",
              "      <td>...</td>\n",
              "      <td>-86.775083</td>\n",
              "      <td>29B1</td>\n",
              "      <td>2019-01-02 01:49:13.913</td>\n",
              "      <td>2019-01-01 19:49:13.913</td>\n",
              "      <td>141.0</td>\n",
              "      <td>1</td>\n",
              "      <td>0</td>\n",
              "      <td>8209</td>\n",
              "      <td>0.508230</td>\n",
              "      <td>1.524322e+09</td>\n",
              "    </tr>\n",
              "    <tr>\n",
              "      <th>58</th>\n",
              "      <td>47</td>\n",
              "      <td>037</td>\n",
              "      <td>011300</td>\n",
              "      <td>47037011300</td>\n",
              "      <td>113</td>\n",
              "      <td>Census Tract 113</td>\n",
              "      <td>G5020</td>\n",
              "      <td>S</td>\n",
              "      <td>4224644</td>\n",
              "      <td>0</td>\n",
              "      <td>...</td>\n",
              "      <td>-86.775555</td>\n",
              "      <td>29B5</td>\n",
              "      <td>2020-10-16 02:51:40.283</td>\n",
              "      <td>2020-10-15 21:51:40.283</td>\n",
              "      <td>503.0</td>\n",
              "      <td>3</td>\n",
              "      <td>0</td>\n",
              "      <td>26528</td>\n",
              "      <td>0.076611</td>\n",
              "      <td>1.524396e+09</td>\n",
              "    </tr>\n",
              "    <tr>\n",
              "      <th>58</th>\n",
              "      <td>47</td>\n",
              "      <td>037</td>\n",
              "      <td>011300</td>\n",
              "      <td>47037011300</td>\n",
              "      <td>113</td>\n",
              "      <td>Census Tract 113</td>\n",
              "      <td>G5020</td>\n",
              "      <td>S</td>\n",
              "      <td>4224644</td>\n",
              "      <td>0</td>\n",
              "      <td>...</td>\n",
              "      <td>-86.775555</td>\n",
              "      <td>29A2V</td>\n",
              "      <td>2019-10-12 04:33:59.960</td>\n",
              "      <td>2019-10-11 23:33:59.960</td>\n",
              "      <td>705.0</td>\n",
              "      <td>4</td>\n",
              "      <td>0</td>\n",
              "      <td>16656</td>\n",
              "      <td>0.076611</td>\n",
              "      <td>1.524396e+09</td>\n",
              "    </tr>\n",
              "  </tbody>\n",
              "</table>\n",
              "<p>5 rows × 26 columns</p>\n",
              "</div>\n",
              "      <button class=\"colab-df-convert\" onclick=\"convertToInteractive('df-b5aee968-d7f7-4c6e-b245-fd008045cac7')\"\n",
              "              title=\"Convert this dataframe to an interactive table.\"\n",
              "              style=\"display:none;\">\n",
              "        \n",
              "  <svg xmlns=\"http://www.w3.org/2000/svg\" height=\"24px\"viewBox=\"0 0 24 24\"\n",
              "       width=\"24px\">\n",
              "    <path d=\"M0 0h24v24H0V0z\" fill=\"none\"/>\n",
              "    <path d=\"M18.56 5.44l.94 2.06.94-2.06 2.06-.94-2.06-.94-.94-2.06-.94 2.06-2.06.94zm-11 1L8.5 8.5l.94-2.06 2.06-.94-2.06-.94L8.5 2.5l-.94 2.06-2.06.94zm10 10l.94 2.06.94-2.06 2.06-.94-2.06-.94-.94-2.06-.94 2.06-2.06.94z\"/><path d=\"M17.41 7.96l-1.37-1.37c-.4-.4-.92-.59-1.43-.59-.52 0-1.04.2-1.43.59L10.3 9.45l-7.72 7.72c-.78.78-.78 2.05 0 2.83L4 21.41c.39.39.9.59 1.41.59.51 0 1.02-.2 1.41-.59l7.78-7.78 2.81-2.81c.8-.78.8-2.07 0-2.86zM5.41 20L4 18.59l7.72-7.72 1.47 1.35L5.41 20z\"/>\n",
              "  </svg>\n",
              "      </button>\n",
              "      \n",
              "  <style>\n",
              "    .colab-df-container {\n",
              "      display:flex;\n",
              "      flex-wrap:wrap;\n",
              "      gap: 12px;\n",
              "    }\n",
              "\n",
              "    .colab-df-convert {\n",
              "      background-color: #E8F0FE;\n",
              "      border: none;\n",
              "      border-radius: 50%;\n",
              "      cursor: pointer;\n",
              "      display: none;\n",
              "      fill: #1967D2;\n",
              "      height: 32px;\n",
              "      padding: 0 0 0 0;\n",
              "      width: 32px;\n",
              "    }\n",
              "\n",
              "    .colab-df-convert:hover {\n",
              "      background-color: #E2EBFA;\n",
              "      box-shadow: 0px 1px 2px rgba(60, 64, 67, 0.3), 0px 1px 3px 1px rgba(60, 64, 67, 0.15);\n",
              "      fill: #174EA6;\n",
              "    }\n",
              "\n",
              "    [theme=dark] .colab-df-convert {\n",
              "      background-color: #3B4455;\n",
              "      fill: #D2E3FC;\n",
              "    }\n",
              "\n",
              "    [theme=dark] .colab-df-convert:hover {\n",
              "      background-color: #434B5C;\n",
              "      box-shadow: 0px 1px 3px 1px rgba(0, 0, 0, 0.15);\n",
              "      filter: drop-shadow(0px 1px 2px rgba(0, 0, 0, 0.3));\n",
              "      fill: #FFFFFF;\n",
              "    }\n",
              "  </style>\n",
              "\n",
              "      <script>\n",
              "        const buttonEl =\n",
              "          document.querySelector('#df-b5aee968-d7f7-4c6e-b245-fd008045cac7 button.colab-df-convert');\n",
              "        buttonEl.style.display =\n",
              "          google.colab.kernel.accessAllowed ? 'block' : 'none';\n",
              "\n",
              "        async function convertToInteractive(key) {\n",
              "          const element = document.querySelector('#df-b5aee968-d7f7-4c6e-b245-fd008045cac7');\n",
              "          const dataTable =\n",
              "            await google.colab.kernel.invokeFunction('convertToInteractive',\n",
              "                                                     [key], {});\n",
              "          if (!dataTable) return;\n",
              "\n",
              "          const docLinkHtml = 'Like what you see? Visit the ' +\n",
              "            '<a target=\"_blank\" href=https://colab.research.google.com/notebooks/data_table.ipynb>data table notebook</a>'\n",
              "            + ' to learn more about interactive tables.';\n",
              "          element.innerHTML = '';\n",
              "          dataTable['output_type'] = 'display_data';\n",
              "          await google.colab.output.renderOutput(dataTable, element);\n",
              "          const docLink = document.createElement('div');\n",
              "          docLink.innerHTML = docLinkHtml;\n",
              "          element.appendChild(docLink);\n",
              "        }\n",
              "      </script>\n",
              "    </div>\n",
              "  </div>\n",
              "  "
            ]
          },
          "metadata": {},
          "execution_count": 9
        }
      ]
    },
    {
      "cell_type": "code",
      "source": [
        "jd.plot()"
      ],
      "metadata": {
        "colab": {
          "base_uri": "https://localhost:8080/",
          "height": 447
        },
        "id": "BS_bFvfiWfBs",
        "outputId": "ec319ec5-df8b-468c-d845-8000e8b841e4"
      },
      "execution_count": 10,
      "outputs": [
        {
          "output_type": "execute_result",
          "data": {
            "text/plain": [
              "<Axes: >"
            ]
          },
          "metadata": {},
          "execution_count": 10
        },
        {
          "output_type": "display_data",
          "data": {
            "text/plain": [
              "<Figure size 640x480 with 1 Axes>"
            ],
            "image/png": "[encoded data removed]"
          },
          "metadata": {}
        }
      ]
    },
    {
      "cell_type": "code",
      "source": [
        "jd.to_file('incident_census_join', driver=\"GeoJSON\")"
      ],
      "metadata": {
        "id": "hkEht7o5Uhc5"
      },
      "execution_count": 11,
      "outputs": []
    },
    {
      "cell_type": "code",
      "source": [
        "s3.upload_file(Bucket='wwu-incidents',Key='incident_census_join',Filename='incident_census_join')"
      ],
      "metadata": {
        "id": "Sd2M2020Wjdn"
      },
      "execution_count": 14,
      "outputs": []
    }
  ]
}