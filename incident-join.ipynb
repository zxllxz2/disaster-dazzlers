{
  "nbformat": 4,
  "nbformat_minor": 0,
  "metadata": {
    "colab": {
      "provenance": [],
      "authorship_tag": "ABX9TyOGyYF7Gjivtx/22wtrtJfL",
      "include_colab_link": true
    },
    "kernelspec": {
      "name": "python3",
      "display_name": "Python 3"
    },
    "language_info": {
      "name": "python"
    }
  },
  "cells": [
    {
      "cell_type": "markdown",
      "metadata": {
        "id": "view-in-github",
        "colab_type": "text"
      },
      "source": [
        "<a href=\"https://colab.research.google.com/github/vu-topics-in-big-data-2023/Team08/blob/main/incident_join.ipynb\" target=\"_parent\"><img src=\"https://colab.research.google.com/assets/colab-badge.svg\" alt=\"Open In Colab\"/></a>"
      ]
    },
    {
      "cell_type": "code",
      "source": [
        "credentials = {\n",
        "    'region_name': 'us-east-1',\n",
        "    'aws_access_key_id': 'xxx',\n",
        "    'aws_secret_access_key': 'xxx',\n",
        "    'aws_session_token': 'xxx'\n",
        "}"
      ],
      "metadata": {
        "id": "8RgrwYKoUR49"
      },
      "execution_count": 1,
      "outputs": []
    },
    {
      "cell_type": "code",
      "execution_count": null,
      "metadata": {
        "id": "Vkd5j1ELUJhg"
      },
      "outputs": [],
      "source": [
        "!pip install boto3\n",
        "!pip install geopandas pyarrow\n",
        "\n",
        "import geopandas as gd\n",
        "import pyarrow.parquet as pq\n",
        "import pandas as pd\n",
        "import boto3, json\n",
        "\n",
        "session = boto3.session.Session(**credentials)\n",
        "s3 = session.client('s3')"
      ]
    },
    {
      "cell_type": "code",
      "source": [
        "session = boto3.session.Session(**credentials)\n",
        "s3 = session.client('s3')"
      ],
      "metadata": {
        "id": "ki1u6e2EayYZ"
      },
      "execution_count": 3,
      "outputs": []
    },
    {
      "cell_type": "markdown",
      "source": [
        "## Upload census tracts to S3"
      ],
      "metadata": {
        "id": "j9cyxo_eUmDB"
      }
    },
    {
      "cell_type": "code",
      "source": [
        "import os\n",
        "\n",
        "for root,dirs,files in os.walk('/content/census_tract'):\n",
        "  for file in files:\n",
        "    s3.upload_file(os.path.join(root[9:],file),'wwu-incidents', file)"
      ],
      "metadata": {
        "id": "C9-RF6YGUlpl"
      },
      "execution_count": null,
      "outputs": []
    },
    {
      "cell_type": "markdown",
      "source": [
        "## Join census tract, economics data, and incidents"
      ],
      "metadata": {
        "id": "48pzttolVfmO"
      }
    },
    {
      "cell_type": "code",
      "source": [
        "! unzip /content/census_tract.zip\n",
        "df = gd.read_file('/content/census_tract/davidson/tl_2016_47_tract.shp')\n",
        "df.head()"
      ],
      "metadata": {
        "id": "8TE5KsUOCXUG"
      },
      "execution_count": null,
      "outputs": []
    },
    {
      "cell_type": "code",
      "source": [
        "df2 = pd.read_csv('/content/census_economic_data_all_tennessee_labels.csv')\n",
        "df2.head()"
      ],
      "metadata": {
        "id": "7mNnjeNCZnu8"
      },
      "execution_count": null,
      "outputs": []
    },
    {
      "cell_type": "code",
      "source": [
        "incidents=pd.read_parquet('nfd_incidents_xd_seg.parquet')\n",
        "incident_geo = gd.GeoDataFrame(\n",
        "    incidents,\n",
        "    geometry=gd.points_from_xy(incidents.longitude, incidents.latitude),\n",
        "    crs=df.crs\n",
        ")"
      ],
      "metadata": {
        "id": "3uJa6DBRUZb5"
      },
      "execution_count": 10,
      "outputs": []
    },
    {
      "cell_type": "code",
      "source": [
        "jdi = gd.sjoin(df, incident_geo, how='inner')\n",
        "len(jdi)"
      ],
      "metadata": {
        "colab": {
          "base_uri": "https://localhost:8080/"
        },
        "id": "K4dCC4eHUfqh",
        "outputId": "a470d3bc-9f00-4668-c993-936275bc2b2d"
      },
      "execution_count": 11,
      "outputs": [
        {
          "output_type": "execute_result",
          "data": {
            "text/plain": [
              "29768"
            ]
          },
          "metadata": {},
          "execution_count": 11
        }
      ]
    },
    {
      "cell_type": "code",
      "source": [
        "jdi = jdi.astype({'TRACTCE': 'int64', 'COUNTYFP': 'int64'})\n",
        "jdi.iloc[[0]]"
      ],
      "metadata": {
        "id": "KFURAsQdoP8v"
      },
      "execution_count": null,
      "outputs": []
    },
    {
      "cell_type": "code",
      "source": [
        "df2_clean = df2.astype({'tract': 'int64', 'county': 'int64'}).drop(['state'], axis=1)\n",
        "df2_clean.iloc[[0]]"
      ],
      "metadata": {
        "id": "4xFxctUYaL7i"
      },
      "execution_count": null,
      "outputs": []
    },
    {
      "cell_type": "code",
      "source": [
        "df_comp = jdi.merge(df2_clean, how='left', left_on=['TRACTCE','COUNTYFP'], right_on=['tract','county'])\n",
        "df_comp.iloc[[0]]"
      ],
      "metadata": {
        "id": "6pn2MDz_dD0R",
        "colab": {
          "base_uri": "https://localhost:8080/",
          "height": 295
        },
        "outputId": "2bce981e-d737-4ba0-e74d-ea205d661424"
      },
      "execution_count": 17,
      "outputs": [
        {
          "output_type": "execute_result",
          "data": {
            "text/plain": [
              "  STATEFP  COUNTYFP  TRACTCE        GEOID  NAME_x             NAMELSAD  MTFCC  \\\n",
              "0      47        21    70103  47021070103  701.03  Census Tract 701.03  G5020   \n",
              "\n",
              "  FUNCSTAT     ALAND  AWATER  ... occupied housing units  \\\n",
              "0        S  43484202    2904  ...                   1338   \n",
              "\n",
              "  owner occupied housing units housing units btw 500k and 750k  \\\n",
              "0                         1097                              22   \n",
              "\n",
              "   housing units btw 750k and 1m housing units above 1m  vacant housing units  \\\n",
              "0                              0                      0                   153   \n",
              "\n",
              "   median housing value median gross rent county  tract  \n",
              "0                152300               841     21  70103  \n",
              "\n",
              "[1 rows x 51 columns]"
            ],
            "text/html": [
              "\n",
              "  <div id=\"df-dc5bd061-f16e-41de-a21e-0914cfe6ed2d\">\n",
              "    <div class=\"colab-df-container\">\n",
              "      <div>\n",
              "<style scoped>\n",
              "    .dataframe tbody tr th:only-of-type {\n",
              "        vertical-align: middle;\n",
              "    }\n",
              "\n",
              "    .dataframe tbody tr th {\n",
              "        vertical-align: top;\n",
              "    }\n",
              "\n",
              "    .dataframe thead th {\n",
              "        text-align: right;\n",
              "    }\n",
              "</style>\n",
              "<table border=\"1\" class=\"dataframe\">\n",
              "  <thead>\n",
              "    <tr style=\"text-align: right;\">\n",
              "      <th></th>\n",
              "      <th>STATEFP</th>\n",
              "      <th>COUNTYFP</th>\n",
              "      <th>TRACTCE</th>\n",
              "      <th>GEOID</th>\n",
              "      <th>NAME_x</th>\n",
              "      <th>NAMELSAD</th>\n",
              "      <th>MTFCC</th>\n",
              "      <th>FUNCSTAT</th>\n",
              "      <th>ALAND</th>\n",
              "      <th>AWATER</th>\n",
              "      <th>...</th>\n",
              "      <th>occupied housing units</th>\n",
              "      <th>owner occupied housing units</th>\n",
              "      <th>housing units btw 500k and 750k</th>\n",
              "      <th>housing units btw 750k and 1m</th>\n",
              "      <th>housing units above 1m</th>\n",
              "      <th>vacant housing units</th>\n",
              "      <th>median housing value</th>\n",
              "      <th>median gross rent</th>\n",
              "      <th>county</th>\n",
              "      <th>tract</th>\n",
              "    </tr>\n",
              "  </thead>\n",
              "  <tbody>\n",
              "    <tr>\n",
              "      <th>0</th>\n",
              "      <td>47</td>\n",
              "      <td>21</td>\n",
              "      <td>70103</td>\n",
              "      <td>47021070103</td>\n",
              "      <td>701.03</td>\n",
              "      <td>Census Tract 701.03</td>\n",
              "      <td>G5020</td>\n",
              "      <td>S</td>\n",
              "      <td>43484202</td>\n",
              "      <td>2904</td>\n",
              "      <td>...</td>\n",
              "      <td>1338</td>\n",
              "      <td>1097</td>\n",
              "      <td>22</td>\n",
              "      <td>0</td>\n",
              "      <td>0</td>\n",
              "      <td>153</td>\n",
              "      <td>152300</td>\n",
              "      <td>841</td>\n",
              "      <td>21</td>\n",
              "      <td>70103</td>\n",
              "    </tr>\n",
              "  </tbody>\n",
              "</table>\n",
              "<p>1 rows × 51 columns</p>\n",
              "</div>\n",
              "      <button class=\"colab-df-convert\" onclick=\"convertToInteractive('df-dc5bd061-f16e-41de-a21e-0914cfe6ed2d')\"\n",
              "              title=\"Convert this dataframe to an interactive table.\"\n",
              "              style=\"display:none;\">\n",
              "        \n",
              "  <svg xmlns=\"http://www.w3.org/2000/svg\" height=\"24px\"viewBox=\"0 0 24 24\"\n",
              "       width=\"24px\">\n",
              "    <path d=\"M0 0h24v24H0V0z\" fill=\"none\"/>\n",
              "    <path d=\"M18.56 5.44l.94 2.06.94-2.06 2.06-.94-2.06-.94-.94-2.06-.94 2.06-2.06.94zm-11 1L8.5 8.5l.94-2.06 2.06-.94-2.06-.94L8.5 2.5l-.94 2.06-2.06.94zm10 10l.94 2.06.94-2.06 2.06-.94-2.06-.94-.94-2.06-.94 2.06-2.06.94z\"/><path d=\"M17.41 7.96l-1.37-1.37c-.4-.4-.92-.59-1.43-.59-.52 0-1.04.2-1.43.59L10.3 9.45l-7.72 7.72c-.78.78-.78 2.05 0 2.83L4 21.41c.39.39.9.59 1.41.59.51 0 1.02-.2 1.41-.59l7.78-7.78 2.81-2.81c.8-.78.8-2.07 0-2.86zM5.41 20L4 18.59l7.72-7.72 1.47 1.35L5.41 20z\"/>\n",
              "  </svg>\n",
              "      </button>\n",
              "      \n",
              "  <style>\n",
              "    .colab-df-container {\n",
              "      display:flex;\n",
              "      flex-wrap:wrap;\n",
              "      gap: 12px;\n",
              "    }\n",
              "\n",
              "    .colab-df-convert {\n",
              "      background-color: #E8F0FE;\n",
              "      border: none;\n",
              "      border-radius: 50%;\n",
              "      cursor: pointer;\n",
              "      display: none;\n",
              "      fill: #1967D2;\n",
              "      height: 32px;\n",
              "      padding: 0 0 0 0;\n",
              "      width: 32px;\n",
              "    }\n",
              "\n",
              "    .colab-df-convert:hover {\n",
              "      background-color: #E2EBFA;\n",
              "      box-shadow: 0px 1px 2px rgba(60, 64, 67, 0.3), 0px 1px 3px 1px rgba(60, 64, 67, 0.15);\n",
              "      fill: #174EA6;\n",
              "    }\n",
              "\n",
              "    [theme=dark] .colab-df-convert {\n",
              "      background-color: #3B4455;\n",
              "      fill: #D2E3FC;\n",
              "    }\n",
              "\n",
              "    [theme=dark] .colab-df-convert:hover {\n",
              "      background-color: #434B5C;\n",
              "      box-shadow: 0px 1px 3px 1px rgba(0, 0, 0, 0.15);\n",
              "      filter: drop-shadow(0px 1px 2px rgba(0, 0, 0, 0.3));\n",
              "      fill: #FFFFFF;\n",
              "    }\n",
              "  </style>\n",
              "\n",
              "      <script>\n",
              "        const buttonEl =\n",
              "          document.querySelector('#df-dc5bd061-f16e-41de-a21e-0914cfe6ed2d button.colab-df-convert');\n",
              "        buttonEl.style.display =\n",
              "          google.colab.kernel.accessAllowed ? 'block' : 'none';\n",
              "\n",
              "        async function convertToInteractive(key) {\n",
              "          const element = document.querySelector('#df-dc5bd061-f16e-41de-a21e-0914cfe6ed2d');\n",
              "          const dataTable =\n",
              "            await google.colab.kernel.invokeFunction('convertToInteractive',\n",
              "                                                     [key], {});\n",
              "          if (!dataTable) return;\n",
              "\n",
              "          const docLinkHtml = 'Like what you see? Visit the ' +\n",
              "            '<a target=\"_blank\" href=https://colab.research.google.com/notebooks/data_table.ipynb>data table notebook</a>'\n",
              "            + ' to learn more about interactive tables.';\n",
              "          element.innerHTML = '';\n",
              "          dataTable['output_type'] = 'display_data';\n",
              "          await google.colab.output.renderOutput(dataTable, element);\n",
              "          const docLink = document.createElement('div');\n",
              "          docLink.innerHTML = docLinkHtml;\n",
              "          element.appendChild(docLink);\n",
              "        }\n",
              "      </script>\n",
              "    </div>\n",
              "  </div>\n",
              "  "
            ]
          },
          "metadata": {},
          "execution_count": 17
        }
      ]
    },
    {
      "cell_type": "code",
      "source": [
        "df_comp.to_file('/content/incident_census_join_econ', driver=\"GeoJSON\")"
      ],
      "metadata": {
        "id": "hkEht7o5Uhc5"
      },
      "execution_count": null,
      "outputs": []
    },
    {
      "cell_type": "code",
      "source": [
        "s3.upload_file(Bucket='wwu-incidents',Key='incident_census_join_econ',Filename='incident_census_join_econ')"
      ],
      "metadata": {
        "id": "Sd2M2020Wjdn"
      },
      "execution_count": null,
      "outputs": []
    }
  ]
}